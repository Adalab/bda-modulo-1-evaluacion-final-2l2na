{
 "cells": [
  {
   "cell_type": "markdown",
   "metadata": {},
   "source": [
    "TiendaOnline"
   ]
  },
  {
   "cell_type": "code",
   "execution_count": 90,
   "metadata": {},
   "outputs": [
    {
     "name": "stdout",
     "output_type": "stream",
     "text": [
      "Hemos añadido el producto Camisa\n",
      "---------------------------------------------\n",
      "Hemos añadido el producto Pantalon\n",
      "---------------------------------------------\n",
      "Hemos añadido el producto Zapatos\n",
      "---------------------------------------------\n",
      "Hemos cambiado la cantidad del producto Camisa a 50 unidades\n",
      "---------------------------------------------\n",
      "Hemos añadido el producto Blusa\n",
      "---------------------------------------------\n",
      "Nombre: Camisa, Precio:  $20, Cantidad:  50\n",
      "Nombre: Pantalon, Precio:  $30, Cantidad:  30\n",
      "Nombre: Zapatos, Precio:  $50, Cantidad:  40\n",
      "Nombre: Blusa, Precio:  $20, Cantidad:  50\n",
      "---------------------------------------------\n",
      "Nombre: Camisa, Precio:  $20, Cantidad:  50\n",
      "---------------------------------------------\n"
     ]
    }
   ],
   "source": [
    "inventario = []\n",
    "clientes = {}  # Definir antes de la clase\n",
    "\n",
    "class TiendaOnline:\n",
    "    def __init__(self, inventario, clientes):\n",
    "        self.inventario = inventario\n",
    "        self.clientes = clientes\n",
    "        self.ventas_totales = 0\n",
    "\n",
    "#1. \n",
    "\n",
    "    def agregar_producto(self, nombre, precio, cantidad):\n",
    "        self.nombre = nombre\n",
    "        self.precio = precio\n",
    "        self.cantidad = cantidad\n",
    "    \n",
    "        for producto in self.inventario: #para cada producto del inventario\n",
    "\n",
    "            if producto['nombre'] == nombre: #si la key'nombre' == nombre(que hemos llamado)\n",
    "                producto['cantidad'] = cantidad  # Ponemos la cantidad que hemos llamado\n",
    "                print(f'Hemos cambiado la cantidad del producto {nombre} a {producto[\"cantidad\"]} unidades')\n",
    "                print('---------------------------------------------')\n",
    "                return\n",
    "        else: #Si no lo indexo aquí no me funciona bien o no funciona ****pq?????*******\n",
    "            producto = {'nombre': nombre, 'precio': precio, 'cantidad': cantidad}#creamos el producto - si no lo hacemos aquí no funciona\n",
    "            inventario.append(producto) #lo añadimos al inventario\n",
    "            print(f'Hemos añadido el producto {nombre}')#no me lo imprime con return f'???????\n",
    "            print('---------------------------------------------')\n",
    "            return\n",
    "#2.       \n",
    "    def ver_inventario(self):\n",
    "        for producto in inventario:\n",
    "        \n",
    "            print(f'Nombre: {producto['nombre']}, Precio:  ${producto['precio']}, Cantidad:  {producto['cantidad']}')    \n",
    "            \n",
    "#3.\n",
    "    def buscar_producto(self, nombre):\n",
    "        for producto in inventario:\n",
    "            if producto['nombre'] == 'Camisa':\n",
    "                print('---------------------------------------------')\n",
    "                print(f'Nombre: {producto['nombre']}, Precio:  ${producto['precio']}, Cantidad:  {producto['cantidad']}')\n",
    "                print('---------------------------------------------')\n",
    "\n",
    "#4.\n",
    "\n",
    "\n",
    "# Crear la tienda online\n",
    "mi_TiendaOnline = TiendaOnline(inventario,clientes)\n",
    "# Agregamos productos #1.\n",
    "mi_TiendaOnline.agregar_producto('Camisa', 20, 50)\n",
    "mi_TiendaOnline.agregar_producto('Pantalon', 30, 30)\n",
    "mi_TiendaOnline.agregar_producto('Zapatos', 50, 40)\n",
    "mi_TiendaOnline.agregar_producto('Camisa', 20, 50)# ******Creo que está equivocado, pongo uno mas ******\n",
    "mi_TiendaOnline.agregar_producto('Blusa', 20, 50)\n",
    "#2.\n",
    "mi_TiendaOnline.ver_inventario() \n",
    "#3.\n",
    "mi_TiendaOnline.buscar_producto('Camisa')\n",
    "\n",
    "\n",
    "\n",
    "\n"
   ]
  },
  {
   "cell_type": "code",
   "execution_count": 64,
   "metadata": {},
   "outputs": [
    {
     "name": "stdout",
     "output_type": "stream",
     "text": [
      "Nombre: Camisa, Precio:  $20, Cantidad:  50\n",
      "Nombre: Pantalon, Precio:  $30, Cantidad:  30\n",
      "Nombre: Zapatos, Precio:  $50, Cantidad:  40\n",
      "Nombre: Blusa, Precio:  $20, Cantidad:  50\n"
     ]
    }
   ],
   "source": [
    "#2.Imprimir inventario\n",
    "for producto in inventario:\n",
    "        \n",
    "    \n",
    "    print(f'Nombre: {producto['nombre']}, Precio:  ${producto['precio']}, Cantidad:  {producto['cantidad']}')\n",
    "         \n"
   ]
  },
  {
   "cell_type": "code",
   "execution_count": 78,
   "metadata": {},
   "outputs": [
    {
     "name": "stdout",
     "output_type": "stream",
     "text": [
      "Nombre: Camisa, Precio:  $20, Cantidad:  50\n"
     ]
    }
   ],
   "source": [
    "#3. Buscar producto\n",
    "#def buscar_producto(self, nombre):\n",
    "for producto in inventario:\n",
    "    if producto['nombre'] == 'Camisa':\n",
    "        print(f'Nombre: {producto['nombre']}, Precio:  ${producto['precio']}, Cantidad:  {producto['cantidad']}')\n",
    "\n",
    "\n"
   ]
  },
  {
   "cell_type": "code",
   "execution_count": 92,
   "metadata": {},
   "outputs": [
    {
     "name": "stdout",
     "output_type": "stream",
     "text": [
      "[{'nombre': 'Zapatos', 'precio': 50, 'cantidad': 40}, {'nombre': 'Blusa', 'precio': 20, 'cantidad': 50}]\n"
     ]
    }
   ],
   "source": [
    "#4. Actualizar Stock\n",
    "#def eliminar_producto(self, nombre):\n",
    "for producto in inventario:\n",
    "    if producto['nombre'] == 'Camisa': #sustituir por nombre\n",
    "        key_producto = inventario.count('Camisa')#sustituir por producto\n",
    "        inventario.pop(key_producto)\n",
    "   \n",
    "\n",
    "print(inventario)"
   ]
  }
 ],
 "metadata": {
  "kernelspec": {
   "display_name": "Python 3",
   "language": "python",
   "name": "python3"
  },
  "language_info": {
   "codemirror_mode": {
    "name": "ipython",
    "version": 3
   },
   "file_extension": ".py",
   "mimetype": "text/x-python",
   "name": "python",
   "nbconvert_exporter": "python",
   "pygments_lexer": "ipython3",
   "version": "3.12.4"
  }
 },
 "nbformat": 4,
 "nbformat_minor": 2
}
