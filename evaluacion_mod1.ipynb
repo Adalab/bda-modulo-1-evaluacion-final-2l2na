{
 "cells": [
  {
   "cell_type": "markdown",
   "metadata": {},
   "source": [
    "TiendaOnline"
   ]
  },
  {
   "cell_type": "code",
   "execution_count": 25,
   "metadata": {},
   "outputs": [
    {
     "name": "stdout",
     "output_type": "stream",
     "text": [
      "Hemos añadido el producto Camisa\n",
      "Hemos añadido el producto Pantaloón\n",
      "Hemos añadido el producto Zapatos\n",
      "Hemos cambiado la cantidad del producto Camisa a 50 unidades\n",
      "Hemos añadido el producto Blusa\n"
     ]
    },
    {
     "ename": "NameError",
     "evalue": "name 'nobmre' is not defined",
     "output_type": "error",
     "traceback": [
      "\u001b[0;31m---------------------------------------------------------------------------\u001b[0m",
      "\u001b[0;31mNameError\u001b[0m                                 Traceback (most recent call last)",
      "Cell \u001b[0;32mIn[25], line 49\u001b[0m\n\u001b[1;32m     46\u001b[0m mi_TiendaOnline\u001b[38;5;241m.\u001b[39magregar_producto(\u001b[38;5;124m'\u001b[39m\u001b[38;5;124mCamisa\u001b[39m\u001b[38;5;124m'\u001b[39m, \u001b[38;5;241m20\u001b[39m, \u001b[38;5;241m50\u001b[39m)\u001b[38;5;66;03m# Esto tiene que estar equivocado************* pongo otro******\u001b[39;00m\n\u001b[1;32m     47\u001b[0m mi_TiendaOnline\u001b[38;5;241m.\u001b[39magregar_producto(\u001b[38;5;124m'\u001b[39m\u001b[38;5;124mBlusa\u001b[39m\u001b[38;5;124m'\u001b[39m, \u001b[38;5;241m20\u001b[39m, \u001b[38;5;241m50\u001b[39m)\n\u001b[0;32m---> 49\u001b[0m mi_TiendaOnline\u001b[38;5;241m.\u001b[39mver_inventario()\n",
      "Cell \u001b[0;32mIn[25], line 35\u001b[0m, in \u001b[0;36mTiendaOnline.ver_inventario\u001b[0;34m(self)\u001b[0m\n\u001b[1;32m     33\u001b[0m \u001b[38;5;28;01mdef\u001b[39;00m \u001b[38;5;21mver_inventario\u001b[39m(\u001b[38;5;28mself\u001b[39m):\n\u001b[1;32m     34\u001b[0m     \u001b[38;5;28;01mfor\u001b[39;00m nombre \u001b[38;5;129;01min\u001b[39;00m \u001b[38;5;28mself\u001b[39m\u001b[38;5;241m.\u001b[39minventario:\n\u001b[0;32m---> 35\u001b[0m         \u001b[38;5;28mprint\u001b[39m(\u001b[38;5;124mf\u001b[39m\u001b[38;5;124m'\u001b[39m\u001b[38;5;132;01m{\u001b[39;00mnobmre\u001b[38;5;132;01m}\u001b[39;00m\u001b[38;5;124m \u001b[39m\u001b[38;5;132;01m{\u001b[39;00mprecio\u001b[38;5;132;01m}\u001b[39;00m\u001b[38;5;124m \u001b[39m\u001b[38;5;132;01m{\u001b[39;00mcantidad\u001b[38;5;132;01m}\u001b[39;00m\u001b[38;5;124m'\u001b[39m)\n\u001b[1;32m     36\u001b[0m         \u001b[38;5;28;01mpass\u001b[39;00m\n",
      "\u001b[0;31mNameError\u001b[0m: name 'nobmre' is not defined"
     ]
    }
   ],
   "source": [
    "inventario = [] #definir antes de la clase\n",
    "\n",
    "class TiendaOnline:\n",
    "\n",
    "\n",
    "    inventario = [{}]#nombre_producto, precio, cantidad\n",
    "    clientes = {}#cliente,datos_cliente\n",
    "    datos_cliente ={} #email,compras\n",
    "    compras=[]\n",
    "\n",
    "    def __init__(self, inventario, clientes):\n",
    "        self.inventario = inventario\n",
    "        self.clientes = clientes\n",
    "        self.ventas_totales = 0\n",
    "\n",
    "#1.\n",
    "    def agregar_producto(self, nombre, precio, cantidad):\n",
    "    \n",
    "        for producto in inventario: #para cada producto del inventario\n",
    "\n",
    "            if producto['nombre'] == nombre: #si la key'nombre' == nombre(que hemos llamado)\n",
    "                producto['cantidad'] = cantidad  # Lo actualizamos a la cantidad que hemos llamado (si es sumar += cantidad)\n",
    "                print(f'Hemos cambiado la cantidad del producto {nombre} a {producto[\"cantidad\"]} unidades')\n",
    "                return#No se pq no puedo hacer return directamente y tengo que print\n",
    "    \n",
    "        else: #Si no lo indexo aquí no me funciona.\n",
    "            producto = {'nombre': nombre, 'precio': precio, 'cantidad': cantidad}#creamos el producto - si no lo hacemos aquí no funciona\n",
    "            inventario.append(producto) #lo añadimos al inventario\n",
    "            print(f'Hemos añadido el producto {nombre}')#no me lo imprime con return f'???????\n",
    "            return\n",
    "\n",
    "#2.*************************************************************************************\n",
    "    def ver_inventario(self):\n",
    "        for nombre in self.inventario:\n",
    "            print(f'{nobmre} {precio} {cantidad}')\n",
    "            pass\n",
    "         \n",
    "\n",
    "\n",
    "\n",
    "mi_TiendaOnline = TiendaOnline('mi_inventario', 'mis_clientes')\n",
    "\n",
    "mi_TiendaOnline.agregar_producto('Camisa', 20, 50)\n",
    "mi_TiendaOnline.agregar_producto('Pantaloón', 30, 30)\n",
    "mi_TiendaOnline.agregar_producto('Zapatos', 50, 40)\n",
    "mi_TiendaOnline.agregar_producto('Camisa', 20, 50)# Esto tiene que estar equivocado************* pongo otro******\n",
    "mi_TiendaOnline.agregar_producto('Blusa', 20, 50)\n",
    "\n",
    "mi_TiendaOnline.ver_inventario()\n"
   ]
  }
 ],
 "metadata": {
  "kernelspec": {
   "display_name": "Python 3",
   "language": "python",
   "name": "python3"
  },
  "language_info": {
   "codemirror_mode": {
    "name": "ipython",
    "version": 3
   },
   "file_extension": ".py",
   "mimetype": "text/x-python",
   "name": "python",
   "nbconvert_exporter": "python",
   "pygments_lexer": "ipython3",
   "version": "3.12.4"
  }
 },
 "nbformat": 4,
 "nbformat_minor": 2
}
