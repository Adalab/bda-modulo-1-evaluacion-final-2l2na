{
 "cells": [
  {
   "cell_type": "markdown",
   "metadata": {},
   "source": [
    "TiendaOnline"
   ]
  },
  {
   "cell_type": "code",
   "execution_count": 21,
   "metadata": {},
   "outputs": [
    {
     "name": "stdout",
     "output_type": "stream",
     "text": [
      "#1.\n",
      "Hemos añadido el producto Camisa\n",
      "---------------------------------------------\n",
      "#1.\n",
      "Hemos añadido el producto Pantalon\n",
      "---------------------------------------------\n",
      "#1.\n",
      "Hemos añadido el producto Zapatos\n",
      "---------------------------------------------\n",
      "#1.\n",
      "Hemos cambiado la cantidad del producto Camisa a 50 unidades\n",
      "---------------------------------------------\n",
      "#1.\n",
      "Hemos añadido el producto Blusa\n",
      "---------------------------------------------\n",
      "#2.\n",
      "Nombre: Camisa, Precio:  $20, Cantidad:  50\n",
      "#2.\n",
      "Nombre: Pantalon, Precio:  $30, Cantidad:  30\n",
      "#2.\n",
      "Nombre: Zapatos, Precio:  $50, Cantidad:  40\n",
      "#2.\n",
      "Nombre: Blusa, Precio:  $20, Cantidad:  50\n",
      "#3.\n",
      "Nombre: Camisa, Precio:  $20, Cantidad:  50\n",
      "---------------------------------------------\n",
      "#3.\n",
      "Nombre: Camisa, Precio:  $20, Cantidad:  50\n",
      "---------------------------------------------\n",
      "#4.\n",
      "Hemos añadido 10 de Zapatos al inventario\n",
      "Actualizando el stock del producto Zapatos a 50 unidades\n",
      "---------------------------------------------\n",
      "#4.\n",
      "El producto no está en el inventario\n",
      "---------------------------------------------\n",
      "#5.\n",
      "El producto no está en el inventario\n",
      "#5.\n",
      "El producto no está en el inventario\n",
      "#5.\n",
      "El producto no está en el inventario\n",
      "#5.\n",
      "El producto no está en el inventario\n",
      "#5.\n",
      "Hemos eliminadp el producto Camisa\n",
      "---------------------------------------------\n",
      "#5.\n",
      "El producto no está en el inventario\n",
      "#5.\n",
      "El producto no está en el inventario\n",
      "#6.\n",
      "Pantalon : 30 ud * $30 = $900\n",
      "#6.\n",
      "Zapatos : 50 ud * $50 = $2500\n",
      "#6.\n",
      "Blusa : 50 ud * $20 = $1000\n"
     ]
    }
   ],
   "source": [
    "inventario = []\n",
    "clientes = {}  # Definir antes de la clase\n",
    "\n",
    "class TiendaOnline:\n",
    "    def __init__(self, inventario, clientes):\n",
    "        self.inventario = inventario\n",
    "        self.clientes = clientes\n",
    "        self.ventas_totales = 0\n",
    "\n",
    "#1. \n",
    "\n",
    "    def agregar_producto(self, nombre, precio, cantidad):\n",
    "        self.nombre = nombre\n",
    "        self.precio = precio\n",
    "        self.cantidad = cantidad\n",
    "    \n",
    "        for producto in self.inventario: #para cada producto del inventario\n",
    "\n",
    "            if producto['nombre'] == nombre: #si la key'nombre' == nombre(que hemos llamado)\n",
    "                producto['cantidad'] = cantidad  # Ponemos la cantidad que hemos llamado\n",
    "                print('#1.')\n",
    "                print(f'Hemos cambiado la cantidad del producto {nombre} a {producto[\"cantidad\"]} unidades')\n",
    "                print('---------------------------------------------')\n",
    "                return\n",
    "        else: #Si no lo indexo aquí no me funciona bien o no funciona ****pq?????*******\n",
    "            producto = {'nombre': nombre, 'precio': precio, 'cantidad': cantidad}#creamos el producto - si no lo hacemos aquí no funciona\n",
    "            inventario.append(producto) #lo añadimos al inventario\n",
    "            print('#1.')\n",
    "            print(f'Hemos añadido el producto {nombre}')#no me lo imprime con return f'???????\n",
    "            print('---------------------------------------------')\n",
    "            return\n",
    "#2.       \n",
    "    def ver_inventario(self):\n",
    "        for producto in inventario:\n",
    "            print('#2.')\n",
    "            print(f'Nombre: {producto['nombre']}, Precio:  ${producto['precio']}, Cantidad:  {producto['cantidad']}')    \n",
    "            \n",
    "#3.\n",
    "    def buscar_producto(self, nombre):\n",
    "        for producto in inventario:\n",
    "            if producto['nombre'] == 'Camisa':\n",
    "                print('#3.')\n",
    "                print(f'Nombre: {producto['nombre']}, Precio:  ${producto['precio']}, Cantidad:  {producto['cantidad']}')\n",
    "                print('---------------------------------------------')\n",
    "\n",
    "#4.\n",
    "    def actualiza_stock (self,producto_inout,cantidad_inout):\n",
    "\n",
    "        for producto in inventario: # rango\n",
    "\n",
    "            if producto['nombre'] == producto_inout: # Buscamos el producto que hemos llamado\n",
    "                producto['cantidad'] += cantidad_inout  # Ponemos la cantidad que hemos llamado\n",
    "                print('#4.')\n",
    "                print(f'Hemos añadido {cantidad_inout} de {producto['nombre']} al inventario')\n",
    "                print(f'Actualizando el stock del producto {producto['nombre']} a {producto[\"cantidad\"]} unidades')\n",
    "                print('---------------------------------------------')\n",
    "                return\n",
    "        else:\n",
    "            print('#4.')\n",
    "            print('El producto no está en el inventario')\n",
    "            print('---------------------------------------------')\n",
    "            \n",
    "#5.\n",
    "    def eliminar_producto(self, nombre):\n",
    "        for producto in inventario:\n",
    "            if producto['nombre'] == nombre: \n",
    "                key_producto = inventario.count(nombre)#buscamos la key del nombre para usar pop \n",
    "                inventario.pop(key_producto)#borramos el producto\n",
    "                print('#5.')\n",
    "                print (f'Hemos eliminadp el producto {nombre}')\n",
    "                print('---------------------------------------------')\n",
    "                \n",
    "            else:\n",
    "                print('#5.')\n",
    "                print('El producto no está en el inventario')# pq lo dice 4 veces????\n",
    "                \n",
    "              \n",
    "#6.\n",
    "    def calcular_valor_inventario(self):\n",
    "        for producto in inventario:\n",
    "            valor_producto = producto['cantidad'] * producto['precio']\n",
    "            print('#6.')\n",
    "            print(f'{producto['nombre']} : {producto['cantidad']} ud * ${producto['precio']} = ${valor_producto}')\n",
    "            \n",
    "\n",
    "\n",
    "# Crear la tienda online\n",
    "mi_TiendaOnline = TiendaOnline(inventario,clientes)\n",
    "# Agregamos productos #1.\n",
    "mi_TiendaOnline.agregar_producto('Camisa', 20, 50)\n",
    "mi_TiendaOnline.agregar_producto('Pantalon', 30, 30)\n",
    "mi_TiendaOnline.agregar_producto('Zapatos', 50, 40)\n",
    "mi_TiendaOnline.agregar_producto('Camisa', 20, 50)# ******Creo que está equivocado, pongo uno mas ******\n",
    "mi_TiendaOnline.agregar_producto('Blusa', 20, 50)\n",
    "#2.\n",
    "mi_TiendaOnline.ver_inventario() \n",
    "#3.\n",
    "mi_TiendaOnline.buscar_producto('Bota')\n",
    "mi_TiendaOnline.buscar_producto('Camisa')\n",
    "#4.\n",
    "mi_TiendaOnline.actualiza_stock('Zapatos', 10)#poner mi_TiendaOnline.------ que no se te olvide\n",
    "mi_TiendaOnline.actualiza_stock('Calcetines', 100 )#probando que no está\n",
    "#5.\n",
    "mi_TiendaOnline.eliminar_producto('Bota')\n",
    "mi_TiendaOnline.eliminar_producto('Camisa')\n",
    "#6.\n",
    "mi_TiendaOnline.calcular_valor_inventario()\n",
    "\n",
    "\n",
    "\n",
    "\n"
   ]
  },
  {
   "cell_type": "code",
   "execution_count": 5,
   "metadata": {},
   "outputs": [
    {
     "name": "stdout",
     "output_type": "stream",
     "text": [
      "Nombre: Pantalon, Precio:  $30, Cantidad:  30\n",
      "Nombre: Zapatos, Precio:  $50, Cantidad:  40\n",
      "Nombre: Blusa, Precio:  $20, Cantidad:  50\n"
     ]
    }
   ],
   "source": [
    "#2.Imprimir inventario\n",
    "for producto in inventario:\n",
    "        \n",
    "    \n",
    "    print(f'Nombre: {producto['nombre']}, Precio:  ${producto['precio']}, Cantidad:  {producto['cantidad']}')\n",
    "         \n"
   ]
  },
  {
   "cell_type": "code",
   "execution_count": 6,
   "metadata": {},
   "outputs": [],
   "source": [
    "#3. Buscar producto\n",
    "#def buscar_producto(self, nombre):\n",
    "for producto in inventario:\n",
    "    if producto['nombre'] == 'Camisa':\n",
    "        print(f'Nombre: {producto['nombre']}, Precio:  ${producto['precio']}, Cantidad:  {producto['cantidad']}')\n",
    "\n",
    "\n"
   ]
  },
  {
   "cell_type": "code",
   "execution_count": 20,
   "metadata": {},
   "outputs": [
    {
     "name": "stdout",
     "output_type": "stream",
     "text": [
      "#4.\n",
      "Hemos añadido 10 de Zapatos al inventario\n",
      "Actualizando el stock del producto Zapatos a 60 unidades\n",
      "---------------------------------------------\n",
      "#4.\n",
      "El producto no está en el inventario\n",
      "---------------------------------------------\n"
     ]
    }
   ],
   "source": [
    "#4. Actualizar Stock \n",
    "        \n",
    "def actualiza_stock (producto_inout,cantidad_inout):#Acuérdate de añadir self,\n",
    "\n",
    "        for producto in inventario: # rango\n",
    "\n",
    "            if producto['nombre'] == producto_inout: # Buscamos el producto que hemos llamado\n",
    "                producto['cantidad'] += cantidad_inout  # Ponemos la cantidad que hemos llamado\n",
    "                print('#4.')\n",
    "                print(f'Hemos añadido {cantidad_inout} de {producto['nombre']} al inventario')\n",
    "                print(f'Actualizando el stock del producto {producto['nombre']} a {producto[\"cantidad\"]} unidades')\n",
    "                print('---------------------------------------------')\n",
    "                return\n",
    "        else:\n",
    "            print('#4.')\n",
    "            print('El producto no está en el inventario')\n",
    "            print('---------------------------------------------')\n",
    "    \n",
    "actualiza_stock('Zapatos', 10)#poner mi_TiendaOnline.------ que no se te olvide\n",
    "actualiza_stock('Calcetines', 100 )#probando que no está"
   ]
  },
  {
   "cell_type": "code",
   "execution_count": null,
   "metadata": {},
   "outputs": [],
   "source": []
  },
  {
   "cell_type": "code",
   "execution_count": 109,
   "metadata": {},
   "outputs": [
    {
     "name": "stdout",
     "output_type": "stream",
     "text": [
      "Hemos eliminadp el producto Camisa\n",
      "El producto no está en el inventario\n",
      "El producto no está en el inventario\n",
      "[{'nombre': 'Pantalon', 'precio': 30, 'cantidad': 30}, {'nombre': 'Zapatos', 'precio': 50, 'cantidad': 40}, {'nombre': 'Blusa', 'precio': 20, 'cantidad': 50}]\n"
     ]
    }
   ],
   "source": [
    "#5. Eliminar producto\n",
    "#def eliminar_producto(self, nombre):\n",
    "for producto in inventario:\n",
    "    if producto['nombre'] == 'Camisa': #sustituir por nombre\n",
    "        key_producto = inventario.count('Camisa')#sustituir por producto\n",
    "        inventario.pop(key_producto)\n",
    "        print (f'Hemos eliminadp el producto Camisa')#sustituir por producto\n",
    "        \n",
    "    else:\n",
    "        print('El producto no está en el inventario')\n",
    "   \n",
    "\n",
    "print(inventario)"
   ]
  },
  {
   "cell_type": "code",
   "execution_count": 127,
   "metadata": {},
   "outputs": [
    {
     "name": "stdout",
     "output_type": "stream",
     "text": [
      "Pantalon : 30 ud * $30 = $900\n",
      "Zapatos : 40 ud * $50 = $2000\n",
      "Blusa : 50 ud * $20 = $1000\n"
     ]
    }
   ],
   "source": [
    "#6. Valor del inventario\n",
    "#def calcular_valor_inventario(self):\n",
    "for producto in inventario:\n",
    "    valor_producto = producto['cantidad'] * producto['precio']#cantidad * producto de cada producto\n",
    "    print(f'{producto['nombre']} : {producto['cantidad']} ud * ${producto['precio']} = ${valor_producto}')\n"
   ]
  },
  {
   "cell_type": "code",
   "execution_count": 134,
   "metadata": {},
   "outputs": [
    {
     "name": "stdout",
     "output_type": "stream",
     "text": [
      "Nombre: Pantalon, Precio:  $30, Cantidad:  30\n",
      "Nombre: Zapatos, Precio:  $50, Cantidad:  40\n",
      "Nombre: Blusa, Precio:  $20, Cantidad:  50\n",
      "{'Artículo': 'Pantalon', 'Cantidad': 1, 'PVP': 20}\n"
     ]
    }
   ],
   "source": [
    "#7. Realizar compra\n",
    "#def realizar_compra(self):\n",
    "for producto in inventario:#para imprimir el inventario inicial\n",
    "      \n",
    "    print(f'Nombre: {producto['nombre']}, Precio:  ${producto['precio']}, Cantidad:  {producto['cantidad']}')\n",
    "\n",
    "producto_compra = 'Pantalon' #cambiar por un input para nombre\n",
    "cantidad_compra =  1 #cambiar por un input para cantidad  \n",
    "carrito = {'Artículo':producto_compra, 'Cantidad':cantidad_compra, 'PVP': producto['precio']} \n",
    "print(carrito)#como en el ejercicio 6\n",
    "#Actualizar el inventario\n",
    "#Calcular el coste total de la compra"
   ]
  }
 ],
 "metadata": {
  "kernelspec": {
   "display_name": "Python 3",
   "language": "python",
   "name": "python3"
  },
  "language_info": {
   "codemirror_mode": {
    "name": "ipython",
    "version": 3
   },
   "file_extension": ".py",
   "mimetype": "text/x-python",
   "name": "python",
   "nbconvert_exporter": "python",
   "pygments_lexer": "ipython3",
   "version": "3.12.4"
  }
 },
 "nbformat": 4,
 "nbformat_minor": 2
}
