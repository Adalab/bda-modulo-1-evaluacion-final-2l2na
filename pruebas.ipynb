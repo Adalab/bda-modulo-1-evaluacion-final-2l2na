{
 "cells": [
  {
   "cell_type": "code",
   "execution_count": 13,
   "metadata": {},
   "outputs": [
    {
     "name": "stdout",
     "output_type": "stream",
     "text": [
      "Hemos añadido el producto boligrafos\n",
      "Hemos añadido el producto chinchetas\n",
      "[{'nombre': 'boligrafos', 'precio': 3, 'cantidad': 100}, {'nombre': 'chinchetas', 'precio': 10, 'cantidad': 2000}]\n",
      "[{'nombre': 'boligrafos', 'precio': 3, 'cantidad': 100}, {'nombre': 'chinchetas', 'precio': 10, 'cantidad': 1000}]\n"
     ]
    }
   ],
   "source": [
    "#1. \n",
    "\n",
    "inventario = [] #definir antes de la clase\n",
    "\n",
    "\n",
    "def agregar_producto( nombre, precio, cantidad):\n",
    "   \n",
    "    \n",
    "    for producto in inventario: #para cada producto del inventario\n",
    "\n",
    "        if producto['nombre'] == nombre: #si la key'nombre' == nombre(que hemos llamado)\n",
    "            producto['cantidad'] = cantidad  # Ponemos la cantidad que hemos llamado\n",
    "            return f'Hemos cambiado la cantidad del producto {nombre} a {producto[\"cantidad\"]} unidades'\n",
    "    \n",
    "    else: #Si no lo indexo aquí no me funciona\n",
    "        producto = {'nombre': nombre, 'precio': precio, 'cantidad': cantidad}#creamos el producto - si no lo hacemos aquí no funciona\n",
    "        inventario.append(producto) #lo añadimos al inventario\n",
    "        print(f'Hemos añadido el producto {nombre}')#no me lo imprime con return f'???????\n",
    "        return\n",
    "\n",
    "#sustituir x,y por mi_inventario\n",
    "x=agregar_producto(\"boligrafos\", 3, 100)\n",
    "y=agregar_producto('chinchetas', 10, 2000)\n",
    "print(inventario)\n",
    "z=agregar_producto('chinchetas', 10, 1000)\n",
    "print(inventario)\n"
   ]
  },
  {
   "cell_type": "code",
   "execution_count": 14,
   "metadata": {},
   "outputs": [
    {
     "name": "stdout",
     "output_type": "stream",
     "text": [
      "[{'nombre': 'boligrafos', 'precio': 3, 'cantidad': 100}, {'nombre': 'chinchetas', 'precio': 10, 'cantidad': 1000}]\n"
     ]
    }
   ],
   "source": [
    "#2. \n",
    "print (inventario)\n",
    "    def ver_inventario(self):\n",
    "        print({self.})\n",
    "        \n",
    "\n"
   ]
  },
  {
   "cell_type": "code",
   "execution_count": null,
   "metadata": {},
   "outputs": [],
   "source": [
    "#3.\n",
    "\n"
   ]
  }
 ],
 "metadata": {
  "kernelspec": {
   "display_name": "Python 3",
   "language": "python",
   "name": "python3"
  },
  "language_info": {
   "codemirror_mode": {
    "name": "ipython",
    "version": 3
   },
   "file_extension": ".py",
   "mimetype": "text/x-python",
   "name": "python",
   "nbconvert_exporter": "python",
   "pygments_lexer": "ipython3",
   "version": "3.12.4"
  }
 },
 "nbformat": 4,
 "nbformat_minor": 2
}
